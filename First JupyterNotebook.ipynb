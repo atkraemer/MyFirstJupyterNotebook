{
 "cells": [
  {
   "cell_type": "code",
   "execution_count": null,
   "id": "3b975820",
   "metadata": {},
   "outputs": [],
   "source": [
    "print(\"Hello world from Jupyter!\")"
   ]
  },
  {
   "cell_type": "code",
   "execution_count": null,
   "id": "c14e6757",
   "metadata": {},
   "outputs": [],
   "source": [
    "import time\n",
    "time.sleep(4)"
   ]
  },
  {
   "cell_type": "code",
   "execution_count": null,
   "id": "993b3455",
   "metadata": {},
   "outputs": [],
   "source": [
    "def say_hello(name):\n",
    "    return 'Hello, {}'.format(name)"
   ]
  },
  {
   "cell_type": "code",
   "execution_count": null,
   "id": "00a38681",
   "metadata": {},
   "outputs": [],
   "source": [
    "say_hello('John')"
   ]
  },
  {
   "cell_type": "code",
   "execution_count": null,
   "id": "a8022230",
   "metadata": {},
   "outputs": [],
   "source": [
    "num1 = 20\n",
    "num2 = 5"
   ]
  },
  {
   "cell_type": "code",
   "execution_count": null,
   "id": "373947a2",
   "metadata": {
    "scrolled": true
   },
   "outputs": [],
   "source": [
    "x=num1-num2\n",
    "print(x)"
   ]
  },
  {
   "cell_type": "markdown",
   "id": "5a6d1480",
   "metadata": {},
   "source": [
    "# This is heading 1\n",
    "## this is heading 2\n",
    "**This is bold text** __This is bold text too__\n",
    "*This is italic* _this is also italic_\n",
    "You can also create lists:\n",
    "* item 1 in bullets\n",
    "* item 2 in bullets\n",
    "you can also create numbered lists\n",
    "1. item 1 in a numeric list\n",
    "2. item 2 in a numeric list\n",
    "\n",
    "[this is a link to tlu webpage](http://www.tlu.edu)"
   ]
  },
  {
   "cell_type": "code",
   "execution_count": null,
   "id": "b8a4a3c8",
   "metadata": {},
   "outputs": [],
   "source": [
    "import numpy as np\n",
    "def square(x):\n",
    "    return x*x"
   ]
  },
  {
   "cell_type": "code",
   "execution_count": null,
   "id": "d138e946",
   "metadata": {},
   "outputs": [],
   "source": [
    "x= np.random.randint(1,10)\n",
    "y= square(x)\n",
    "print('%d squared is: %d' % (x,y))"
   ]
  }
 ],
 "metadata": {
  "kernelspec": {
   "display_name": "Python 3 (ipykernel)",
   "language": "python",
   "name": "python3"
  },
  "language_info": {
   "codemirror_mode": {
    "name": "ipython",
    "version": 3
   },
   "file_extension": ".py",
   "mimetype": "text/x-python",
   "name": "python",
   "nbconvert_exporter": "python",
   "pygments_lexer": "ipython3",
   "version": "3.9.7"
  }
 },
 "nbformat": 4,
 "nbformat_minor": 5
}
