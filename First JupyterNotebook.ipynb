{
 "cells": [
  {
   "cell_type": "code",
   "execution_count": 23,
   "id": "5b37a381",
   "metadata": {},
   "outputs": [
    {
     "name": "stdout",
     "output_type": "stream",
     "text": [
      "Hello world from Jupyter!\n"
     ]
    }
   ],
   "source": [
    "print(\"Hello world from Jupyter!\")"
   ]
  },
  {
   "cell_type": "code",
   "execution_count": 24,
   "id": "0a91fcd3",
   "metadata": {},
   "outputs": [],
   "source": [
    "import time\n",
    "time.sleep(4)"
   ]
  },
  {
   "cell_type": "code",
   "execution_count": 25,
   "id": "eed958af",
   "metadata": {},
   "outputs": [],
   "source": [
    "def say_hello(name):\n",
    "    return 'Hello, {}'.format(name)"
   ]
  },
  {
   "cell_type": "code",
   "execution_count": 26,
   "id": "cda15d0e",
   "metadata": {},
   "outputs": [
    {
     "data": {
      "text/plain": [
       "'Hello, John'"
      ]
     },
     "execution_count": 26,
     "metadata": {},
     "output_type": "execute_result"
    }
   ],
   "source": [
    "say_hello('John')"
   ]
  },
  {
   "cell_type": "code",
   "execution_count": 27,
   "id": "c1cf0525",
   "metadata": {},
   "outputs": [],
   "source": [
    "num1 = 20\n",
    "num2 = 5"
   ]
  },
  {
   "cell_type": "code",
   "execution_count": 28,
   "id": "4f303f4b",
   "metadata": {
    "scrolled": true
   },
   "outputs": [
    {
     "name": "stdout",
     "output_type": "stream",
     "text": [
      "15\n"
     ]
    }
   ],
   "source": [
    "x=num1-num2\n",
    "print(x)"
   ]
  },
  {
   "cell_type": "markdown",
   "id": "5203a863",
   "metadata": {},
   "source": [
    "# This is heading 1\n",
    "## this is heading 2\n",
    "**This is bold text** __This is bold text too__\n",
    "*This is italic* _this is also italic_\n",
    "You can also create lists:\n",
    "* item 1 in bullets\n",
    "* item 2 in bullets\n",
    "you can also create numbered lists\n",
    "1. item 1 in a numeric list\n",
    "2. item 2 in a numeric list\n",
    "\n",
    "[this is a link to tlu webpage](http://www.tlu.edu)"
   ]
  },
  {
   "cell_type": "code",
   "execution_count": 29,
   "id": "6d793ef5",
   "metadata": {},
   "outputs": [],
   "source": [
    "import numpy as np\n",
    "def square(x):\n",
    "    return x*x"
   ]
  },
  {
   "cell_type": "code",
   "execution_count": 30,
   "id": "78486383",
   "metadata": {},
   "outputs": [
    {
     "name": "stdout",
     "output_type": "stream",
     "text": [
      "5 squared is: 25\n"
     ]
    }
   ],
   "source": [
    "x= np.random.randint(1,10)\n",
    "y= square(x)\n",
    "print('%d squared is: %d' % (x,y))"
   ]
  }
 ],
 "metadata": {
  "kernelspec": {
   "display_name": "Python 3 (ipykernel)",
   "language": "python",
   "name": "python3"
  },
  "language_info": {
   "codemirror_mode": {
    "name": "ipython",
    "version": 3
   },
   "file_extension": ".py",
   "mimetype": "text/x-python",
   "name": "python",
   "nbconvert_exporter": "python",
   "pygments_lexer": "ipython3",
   "version": "3.9.7"
  }
 },
 "nbformat": 4,
 "nbformat_minor": 5
}
